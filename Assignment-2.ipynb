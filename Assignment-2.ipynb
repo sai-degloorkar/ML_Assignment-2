{
 "cells": [
  {
   "cell_type": "markdown",
   "metadata": {},
   "source": [
    "## Task 1:\n",
    "#### 1.1\n",
    "Write a Python Program to implement your own myreduce() function which works exactly like\n",
    "Python's built-in function reduce()"
   ]
  },
  {
   "cell_type": "code",
   "execution_count": 48,
   "metadata": {},
   "outputs": [
    {
     "name": "stdout",
     "output_type": "stream",
     "text": [
      "21\n"
     ]
    }
   ],
   "source": [
    "def myReduce(func, l):\n",
    "    #Convert the list into iterable\n",
    "    l_iter = iter(l)\n",
    "    \n",
    "    #Take the first item in list\n",
    "    val = next(l_iter)\n",
    "    \n",
    "    #Loop through to add each item in list - Note: l_iter now points to second argument\n",
    "    for i in l_iter:\n",
    "        val = func(val, i)\n",
    "    return val\n",
    "\n",
    "def add(x,y):\n",
    "    return x+y\n",
    "\n",
    "lst = [1,2,3,4,5,6]\n",
    "num = myReduce(add,lst)\n",
    "print(num)"
   ]
  },
  {
   "cell_type": "markdown",
   "metadata": {},
   "source": [
    "#### 1.2\n",
    "Write a Python program to implement your own myfilter() function which works exactly like\n",
    "Python's built-in function filter()"
   ]
  },
  {
   "cell_type": "code",
   "execution_count": 69,
   "metadata": {},
   "outputs": [
    {
     "name": "stdout",
     "output_type": "stream",
     "text": [
      "[2, 4, 6]\n"
     ]
    }
   ],
   "source": [
    "def myFilter(func, l):\n",
    "    #Convert the list into iterable\n",
    "    l_iter = iter(l)\n",
    "    \n",
    "    #Loop through to add each item in list\n",
    "    for i in l_iter:\n",
    "        if(even_check(i)):\n",
    "            yield i\n",
    "\n",
    "def even_check(x):\n",
    "    if(x%2 == 0):\n",
    "        return x\n",
    "    \n",
    "lst = [1,2,3,4,5,6]\n",
    "filtered_output = list()\n",
    "\n",
    "for i in myFilter(even_check,lst):\n",
    "    filtered_output.append(i)\n",
    "    \n",
    "print(filtered_output)"
   ]
  },
  {
   "cell_type": "markdown",
   "metadata": {},
   "source": [
    "#### 2.\n",
    "Implement List comprehensions to produce the following lists.<br>\n",
    "Write List comprehensions to produce the following Lists<br>\n",
    "['A', 'C', 'A', 'D', 'G', 'I', ’L’, ‘ D’] <br>\n",
    "['x', 'xx', 'xxx', 'xxxx', 'y', 'yy', 'yyy', 'yyyy', 'z', 'zz', 'zzz', 'zzzz']<br>\n",
    "['x', 'y', 'z', 'xx', 'yy', 'zz', 'xx', 'yy', 'zz', 'xxxx', 'yyyy', 'zzzz']<br>\n",
    "[[2], [3], [4], [3], [4], [5], [4], [5], [6]]<br>\n",
    "[[2, 3, 4, 5], [3, 4, 5, 6], [4, 5, 6, 7], [5, 6, 7, 8]]<br>\n",
    "[(1, 1), (2, 1), (3, 1), (1, 2), (2, 2), (3, 2), (1, 3), (2, 3), (3, 3)]"
   ]
  },
  {
   "cell_type": "code",
   "execution_count": 6,
   "metadata": {},
   "outputs": [
    {
     "data": {
      "text/plain": [
       "['A', 'C', 'A', 'D', 'G', 'I', 'L', 'D']"
      ]
     },
     "execution_count": 6,
     "metadata": {},
     "output_type": "execute_result"
    }
   ],
   "source": [
    "str='acadgild'\n",
    "str_comp=[i for i in str.upper()]\n",
    "str_comp"
   ]
  },
  {
   "cell_type": "code",
   "execution_count": 25,
   "metadata": {},
   "outputs": [
    {
     "data": {
      "text/plain": [
       "['x', 'xx', 'xxx', 'xxxx', 'y', 'yy', 'yyy', 'yyyy', 'z', 'zz', 'zzz', 'zzzz']"
      ]
     },
     "execution_count": 25,
     "metadata": {},
     "output_type": "execute_result"
    }
   ],
   "source": [
    "var='xyz'\n",
    "output=[num*letter for num in var for letter in range(1,5)]\n",
    "# output=[letter for letter in range(1,5)]\n",
    "output"
   ]
  },
  {
   "cell_type": "code",
   "execution_count": 39,
   "metadata": {},
   "outputs": [
    {
     "data": {
      "text/plain": [
       "['x', 'y', 'z', 'xx', 'yy', 'zz', 'xxx', 'yyy', 'zzz', 'xxxx', 'yyyy', 'zzzz']"
      ]
     },
     "execution_count": 39,
     "metadata": {},
     "output_type": "execute_result"
    }
   ],
   "source": [
    "var = 'xyz'\n",
    "output=[num*letter for num in range(1,5) for letter in var]\n",
    "output"
   ]
  },
  {
   "cell_type": "code",
   "execution_count": 49,
   "metadata": {},
   "outputs": [
    {
     "data": {
      "text/plain": [
       "[[2], [3], [4], [3], [4], [5], [4], [5], [6]]"
      ]
     },
     "execution_count": 49,
     "metadata": {},
     "output_type": "execute_result"
    }
   ],
   "source": [
    "lst=[2,3,4]\n",
    "output=[[num+i] for num in lst for i in range(0,3)]\n",
    "output"
   ]
  },
  {
   "cell_type": "code",
   "execution_count": 51,
   "metadata": {},
   "outputs": [
    {
     "data": {
      "text/plain": [
       "[[2, 3, 4, 5], [3, 4, 5, 6], [4, 5, 6, 7], [5, 6, 7, 8]]"
      ]
     },
     "execution_count": 51,
     "metadata": {},
     "output_type": "execute_result"
    }
   ],
   "source": [
    "lst=[2,3,4,5]\n",
    "output=[[num+i for num in lst] for i in range(0,4)]\n",
    "output"
   ]
  },
  {
   "cell_type": "code",
   "execution_count": 55,
   "metadata": {},
   "outputs": [
    {
     "data": {
      "text/plain": [
       "[(1, 1), (2, 1), (3, 1), (1, 2), (2, 2), (3, 2), (1, 3), (2, 3), (3, 3)]"
      ]
     },
     "execution_count": 55,
     "metadata": {},
     "output_type": "execute_result"
    }
   ],
   "source": [
    "lst=[1,2,3]\n",
    "output=[(i,num) for num in lst for i in lst]\n",
    "output\n"
   ]
  },
  {
   "cell_type": "markdown",
   "metadata": {},
   "source": [
    "#### 3.  \n",
    " \n",
    "Implement a function longestWord() that takes a list of words and returns the longest one."
   ]
  },
  {
   "cell_type": "code",
   "execution_count": 65,
   "metadata": {},
   "outputs": [
    {
     "name": "stdout",
     "output_type": "stream",
     "text": [
      "Enter some words:This program is designed to find the longest word\n"
     ]
    },
    {
     "data": {
      "text/plain": [
       "'designed'"
      ]
     },
     "execution_count": 65,
     "metadata": {},
     "output_type": "execute_result"
    }
   ],
   "source": [
    "def longestWord(lst):\n",
    "    lw=''\n",
    "    for word in lst:\n",
    "        if(len(word) > len(lw)):\n",
    "            lw = word\n",
    "    return lw\n",
    "            \n",
    "word_lst=input('Enter some words:')\n",
    "word_lst=word_lst.split(' ')\n",
    "longest_word = longestWord(word_lst)\n",
    "longest_word\n",
    "           \n",
    "        "
   ]
  },
  {
   "cell_type": "markdown",
   "metadata": {},
   "source": [
    "## Task 2:\n",
    "\n",
    "#### 1.1\n",
    "Write a Python Program(with class concepts) to find the area of the triangle using the below formula.<br><br>\n",
    "area = (s*(s-a)*(s-b)*(s-c)) ** 0.5 <br><br>\n",
    "Function to take the length of the sides of triangle from user should be defined in the parent\n",
    "class and function to calculate the area should be defined in subclass."
   ]
  },
  {
   "cell_type": "code",
   "execution_count": 27,
   "metadata": {},
   "outputs": [
    {
     "name": "stdout",
     "output_type": "stream",
     "text": [
      "Enter Side 1:3\n",
      "Enter Side 2:4\n",
      "Enter Side 3:5\n"
     ]
    },
    {
     "data": {
      "text/plain": [
       "'Area of Triangle= 6.00'"
      ]
     },
     "execution_count": 27,
     "metadata": {},
     "output_type": "execute_result"
    }
   ],
   "source": [
    "class Shape:\n",
    "    def getSides(self):\n",
    "        self.a = float(input(\"Enter Side 1:\"))\n",
    "        self.b = float(input(\"Enter Side 2:\"))\n",
    "        self.c = float(input(\"Enter Side 3:\"))\n",
    "        \n",
    "class Triangle(Shape):\n",
    "    def findArea(self):\n",
    "        Shape.getSides(self)\n",
    "        s = float((self.a + self.b + self.c) / 2)\n",
    "        self.area = float((s*(s-self.a)*(s-self.b)*(s-self.c)) ** 0.5)\n",
    "        return \"Area of Triangle= %0.2f\" % (self.area)\n",
    "        \n",
    "    def __str__(self):\n",
    "        return \"Area of Triangle= %0.2f\" % (self.area)\n",
    "    \n",
    "t = Triangle()\n",
    "t.findArea()\n",
    "\n",
    "\n",
    "        \n",
    "        "
   ]
  },
  {
   "cell_type": "markdown",
   "metadata": {},
   "source": [
    "#### 1.2\n",
    "Write a function filter_long_words() that takes a list of words and an integer n and returns the list\n",
    "of words that are longer than n."
   ]
  },
  {
   "cell_type": "code",
   "execution_count": 36,
   "metadata": {},
   "outputs": [
    {
     "name": "stdout",
     "output_type": "stream",
     "text": [
      "Enter some words:Sai Eeva Manasi Degloorkar\n",
      "Enter number:3\n"
     ]
    },
    {
     "data": {
      "text/plain": [
       "['Eeva', 'Manasi', 'Degloorkar']"
      ]
     },
     "execution_count": 36,
     "metadata": {},
     "output_type": "execute_result"
    }
   ],
   "source": [
    "def filter_long_words():\n",
    "    lst = input(\"Enter some words:\")\n",
    "    lst = lst.split(' ')\n",
    "    num = int(input(\"Enter number:\"))\n",
    "    lw=list()\n",
    "    \n",
    "    for word in lst:\n",
    "        if(len(word) > num):\n",
    "            lw.append(word)\n",
    "    return lw\n",
    "\n",
    "lst = filter_long_words()\n",
    "lst"
   ]
  },
  {
   "cell_type": "markdown",
   "metadata": {},
   "source": [
    "#### 2.1\n",
    "Write a Python program using function concept that maps list of words into a list of integers\n",
    "representing the lengths of the corresponding words.<br><br>\n",
    "Hint: If a list [ ab, cde, erty] is passed on to the python function output should come as [2,3,4]<br>\n",
    "Here 2,3 and 4 are the lengths of the words in the list."
   ]
  },
  {
   "cell_type": "code",
   "execution_count": 41,
   "metadata": {},
   "outputs": [
    {
     "name": "stdout",
     "output_type": "stream",
     "text": [
      "Enter some words:Sainath Eeva Manasi Degloorkar\n"
     ]
    },
    {
     "data": {
      "text/plain": [
       "[7, 4, 6, 10]"
      ]
     },
     "execution_count": 41,
     "metadata": {},
     "output_type": "execute_result"
    }
   ],
   "source": [
    "def word_to_length():\n",
    "    lst=input(\"Enter some words:\")\n",
    "    lst = lst.split(' ')\n",
    "    \n",
    "    return [len(words) for words in lst]\n",
    "\n",
    "\n",
    "word_to_length()"
   ]
  },
  {
   "cell_type": "markdown",
   "metadata": {},
   "source": [
    "#### 2.2\n",
    "Write a Python function which takes a character (i.e. a string of length 1) and returns True if it is\n",
    "a vowel, False otherwise."
   ]
  },
  {
   "cell_type": "code",
   "execution_count": 74,
   "metadata": {},
   "outputs": [
    {
     "name": "stdout",
     "output_type": "stream",
     "text": [
      "Enter a character:o\n"
     ]
    },
    {
     "data": {
      "text/plain": [
       "True"
      ]
     },
     "execution_count": 74,
     "metadata": {},
     "output_type": "execute_result"
    }
   ],
   "source": [
    "def identify_vowel():\n",
    "    vowel = list('aeiouAEIOU')\n",
    "    a = input(\"Enter a character:\")\n",
    "    for i in range(10):\n",
    "        if(a == vowel[i]):\n",
    "            return True\n",
    "    else:\n",
    "        return False\n",
    "        \n",
    "        \n",
    "identify_vowel()"
   ]
  },
  {
   "cell_type": "markdown",
   "metadata": {},
   "source": [
    "### Approach 2"
   ]
  },
  {
   "cell_type": "code",
   "execution_count": 73,
   "metadata": {},
   "outputs": [
    {
     "name": "stdout",
     "output_type": "stream",
     "text": [
      "Enter a character::E\n"
     ]
    },
    {
     "data": {
      "text/plain": [
       "[True]"
      ]
     },
     "execution_count": 73,
     "metadata": {},
     "output_type": "execute_result"
    }
   ],
   "source": [
    "def identify_vowel():\n",
    "    vowel=list('aeiouAEIOU')\n",
    "    char = input(\"Enter a character::\")\n",
    "    return [v in vowel for v in char]\n",
    "    \n",
    "identify_vowel()"
   ]
  }
 ],
 "metadata": {
  "kernelspec": {
   "display_name": "Python 3",
   "language": "python",
   "name": "python3"
  },
  "language_info": {
   "codemirror_mode": {
    "name": "ipython",
    "version": 3
   },
   "file_extension": ".py",
   "mimetype": "text/x-python",
   "name": "python",
   "nbconvert_exporter": "python",
   "pygments_lexer": "ipython3",
   "version": "3.6.5"
  }
 },
 "nbformat": 4,
 "nbformat_minor": 2
}
